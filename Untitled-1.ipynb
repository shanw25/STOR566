{
 "cells": [
  {
   "cell_type": "markdown",
   "metadata": {},
   "source": [
    "# HW1"
   ]
  },
  {
   "cell_type": "markdown",
   "metadata": {},
   "source": [
    "## Problem 1 (a)"
   ]
  },
  {
   "cell_type": "markdown",
   "metadata": {},
   "source": [
    "\n",
    "$f(x_1, x_2) = (x_1x_2 - 1)^2$ with $x_1, x_2 \\in\\mathbb{R}$\\\n",
    "\\\n",
    "$f(x_1, x_2) = (x_1x_2 - 1)^2 = x_1^2x_2^2 - 2x_1x_2 + 1$\\\n",
    "\\\n",
    "$ \\nabla^2 f(x_1, x_2) =\n",
    "\\begin{bmatrix}\n",
    "2x_2^2 & 4x_1x_2 - 2\\\\\n",
    "4x_1x_2 - 2 & 2x_1^2\n",
    "\\end{bmatrix}\n",
    "$\\\n",
    "\\\n",
    "$det(\\nabla^2 f(x_1, x_2)) = -12x_1^2x_2^2 + 16x_1x_2 - 4 = -4(-x_1x_2 + 1)(-3x_1x_2 + 1)$\\\n",
    "\\\n",
    "When $x_1 = 0, x_2 = 0, det(\\nabla^2 f(x_1, x_2)) = -4 < 0$\\\n",
    "\\\n",
    "Thus, $\\nabla^2 f(x_1, x_2)$ is not positive definite.\\\n",
    "\\\n",
    "Thus, $f(x_1, x_2)$ aren't convex."
   ]
  },
  {
   "cell_type": "markdown",
   "metadata": {},
   "source": [
    "## Problem 1 (b)"
   ]
  },
  {
   "cell_type": "markdown",
   "metadata": {},
   "source": []
  },
  {
   "cell_type": "markdown",
   "metadata": {},
   "source": [
    "## Problem 2"
   ]
  },
  {
   "cell_type": "markdown",
   "metadata": {},
   "source": [
    "$f(x) = 2x_1 + 12x_2 + x_1^2 - 3x_2^2$\\\n",
    "\\\n",
    "$f_{x_1} = 2 + 2x_1$ $\\>$ $f_{x_1x_1} = 2$ $\\>$ $f_{x_2} = 12 - 6x_2$ $\\>$ $f_{x_2x_2} = -6$ $\\>$ $f_{x_1x_2} = 0$\\\n",
    "\\\n",
    "In order to find the stationary points, solve the following system of equations:\\\n",
    "$\\begin{array}{lcl} 0 & = & 2 + 2x_1 \\\\ 0 & = & 12 - 6x_2 \\end{array}$\\\n",
    "Solution:\\\n",
    "$\\begin{array}{lcl} x_1 & = & -1 \\\\ x_2 & = & 2 \\end{array}$\\\n",
    "\\\n",
    "The system of equation only has one solution and the domain of the function is unbounded. Thus, there is only one stationary point:\\\n",
    "$(-1, 2)$\\\n",
    "\\\n",
    "In order to identify whether it's minimum/maximum or saddle points, we calculate the determinant of the Hassian matrix(H) of the function:\\\n",
    "$ H = \n",
    "\\begin{bmatrix}\n",
    "f_{x_1x_1} & f_{x_1x_2}\\\\\n",
    "f_{x_2x_1} & f_{x_2x_2}\n",
    "\\end{bmatrix}$\\\n",
    "\\\n",
    "$det(H) = f_{x_1x_1} * f_{x_2x_2} - f_{x_1x_2}^2 = 2 * (-6) - 0^2 = -12 < 0$\\\n",
    "\\\n",
    "Thus, it's a saddle point."
   ]
  },
  {
   "cell_type": "markdown",
   "metadata": {},
   "source": [
    "## Problem 3"
   ]
  }
 ],
 "metadata": {
  "kernelspec": {
   "display_name": "Python 3.10.2 64-bit",
   "language": "python",
   "name": "python3"
  },
  "language_info": {
   "name": "python",
   "version": "3.10.2"
  },
  "orig_nbformat": 4,
  "vscode": {
   "interpreter": {
    "hash": "aee8b7b246df8f9039afb4144a1f6fd8d2ca17a180786b69acc140d282b71a49"
   }
  }
 },
 "nbformat": 4,
 "nbformat_minor": 2
}
