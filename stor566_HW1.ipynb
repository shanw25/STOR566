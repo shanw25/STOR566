{
 "cells": [
  {
   "cell_type": "markdown",
   "metadata": {
    "id": "0D6giqCEScfp",
    "pycharm": {
     "name": "#%% md\n"
    }
   },
   "source": [
    "# STOR 566, Homework 1\n",
    "### Instructor: Yao Li\n",
    "### Keywords: optimization\n",
    "### Due date: Sep 07, 11:55pm\n",
    "### **Submission Instruction**\n",
    "\n",
    "- Please download this script and use it to answer the questions in the homework. \n",
    "- For submission, please include your code, code output and answers in the script and submit the ipynb file on sakai.\n",
    "- Please don't modify existing cells. But you can add cells between the exercise statements.\n",
    "- To make markdown, please switch the cell type to markdown (from code) - you can hit 'm' when you are in command mode - and use the markdown language. For a brief tutorial see: https://daringfireball.net/projects/markdown/syntax\n"
   ]
  },
  {
   "cell_type": "markdown",
   "metadata": {
    "id": "rB6khqRukUzQ",
    "pycharm": {
     "name": "#%% md\n"
    }
   },
   "source": [
    "## Problem 1 (10 points)\n",
    "\n",
    "Prove whether the following functions are convex or not.\n",
    "- (a) (5 points) $f(x_1,x_2)=(x_1x_2-1)^2$, where $x_1, x_2\\in \\mathbb{R}$.\n",
    "- (b) (5 points) $f(\\mathbf{w}_1, \\mathbf{w}_2)=\\|\\mathbf{w}_1-\\mathbf{w}_2\\|^2_2$,  where $\\mathbf{w}_1, \\mathbf{w}_2\\in \\mathbb{R}^2$.\n"
   ]
  },
  {
   "cell_type": "markdown",
   "metadata": {
    "id": "L_VY0XmUkteW",
    "pycharm": {
     "name": "#%% md\n"
    }
   },
   "source": [
    "Solution of Problem 1 (a): $f(x_1, x_2)$ aren't convex."
   ]
  },
  {
   "cell_type": "markdown",
   "metadata": {
    "id": "6Tigk4RBkyFb",
    "pycharm": {
     "name": "#%% md\n"
    }
   },
   "source": [
    "Answer:\n",
    "\n",
    "$f(x_1, x_2) = (x_1x_2 - 1)^2$ with $x_1, x_2 \\in\\mathbb{R}$\\\n",
    "\\\n",
    "$f(x_1, x_2) = (x_1x_2 - 1)^2 = x_1^2x_2^2 - 2x_1x_2 + 1$\\\n",
    "\\\n",
    "$ \\nabla^2 f(x_1, x_2) =\n",
    "\\begin{bmatrix}\n",
    "2x_2^2 & 4x_1x_2 - 2\\\\\n",
    "4x_1x_2 - 2 & 2x_1^2\n",
    "\\end{bmatrix}\n",
    "$\\\n",
    "\\\n",
    "$det(\\nabla^2 f(x_1, x_2)) = -12x_1^2x_2^2 + 16x_1x_2 - 4 = -4(-x_1x_2 + 1)(-3x_1x_2 + 1)$\\\n",
    "\\\n",
    "When $x_1 = 0, x_2 = 0, det(\\nabla^2 f(x_1, x_2)) = -4 < 0$\\\n",
    "\\\n",
    "Thus, $\\nabla^2 f(x_1, x_2)$ is not positive definite.\\\n",
    "\\\n",
    "Thus, $f(x_1, x_2)$ aren't convex."
   ]
  },
  {
   "cell_type": "markdown",
   "metadata": {
    "id": "sIrHUR8zk1Tp",
    "pycharm": {
     "name": "#%% md\n"
    }
   },
   "source": [
    "Solution of Problem 1 (b):"
   ]
  },
  {
   "cell_type": "markdown",
   "metadata": {
    "id": "I0rrCHF0k32r",
    "pycharm": {
     "name": "#%% md\n"
    }
   },
   "source": [
    "Answer:"
   ]
  },
  {
   "cell_type": "markdown",
   "metadata": {
    "id": "HRihLtPqk6rB",
    "pycharm": {
     "name": "#%% md\n"
    }
   },
   "source": [
    "## Problem 2 (10 points)\n",
    "\n",
    "Identify stationary points for $f(x) = 2x_1 +12x_2 +x^2_1 -3x^2_2$? Are they local minimum/maximum; global minimum/maximum or saddle points? Why?"
   ]
  },
  {
   "cell_type": "markdown",
   "metadata": {
    "id": "PG1_3Bemk79P",
    "pycharm": {
     "name": "#%% md\n"
    }
   },
   "source": [
    "Answer:\\\n",
    "$f(x) = 2x_1 + 12x_2 + x_1^2 - 3x_2^2$\\\n",
    "\\\n",
    "$f_{x_1} = 2 + 2x_1$ $\\>$ $f_{x_1x_1} = 2$ $\\>$ $f_{x_2} = 12 - 6x_2$ $\\>$ $f_{x_2x_2} = -6$ $\\>$ $f_{x_1x_2} = 0$\\\n",
    "\\\n",
    "In order to find the stationary points, solve the following system of equations:\\\n",
    "$\\begin{array}{lcl} 0 & = & 2 + 2x_1 \\\\ 0 & = & 12 - 6x_2 \\end{array}$\\\n",
    "Solution:\\\n",
    "$\\begin{array}{lcl} x_1 & = & -1 \\\\ x_2 & = & 2 \\end{array}$\\\n",
    "\\\n",
    "The system of equation only has one solution and the domain of the function is unbounded. Thus, there is only one stationary point:\\\n",
    "$(-1, 2)$\\\n",
    "\\\n",
    "In order to identify whether it's minimum/maximum or saddle points, we calculate the determinant of the Hassian matrix(H) of the function:\\\n",
    "$ H = \n",
    "\\begin{bmatrix}\n",
    "f_{x_1x_1} & f_{x_1x_2}\\\\\n",
    "f_{x_2x_1} & f_{x_2x_2}\n",
    "\\end{bmatrix}$\\\n",
    "\\\n",
    "$det(H) = f_{x_1x_1} * f_{x_2x_2} - f_{x_1x_2}^2 = 2 * (-6) - 0^2 = -12 < 0$\\\n",
    "\\\n",
    "Thus, it's a saddle point."
   ]
  },
  {
   "cell_type": "markdown",
   "metadata": {
    "id": "kegz8m6glB3d",
    "pycharm": {
     "name": "#%% md\n"
    }
   },
   "source": [
    "## Problem 3 (80 points)\n",
    "\n",
    "Given training data $\\{\\mathbf{x}_i, y_i\\}^n_{i=1}$, each $x_i\\in \\mathbb{R}^d$ and $y_i \\in \\{+1, -1\\}$, we try to solve the following logistic regression problem by gradient descent:\n",
    "\\begin{align}\n",
    "\\min_{\\mathbf{w}\\in R^d}\\left\\{\\frac{1}{n}\\sum_{i=1}^n\\log(1+e^{-y_i\\mathbf{w}^T\\mathbf{x}_i})+\\frac{1}{2}\\|\\mathbf{w}\\|^2_2  \\right\\} := f(\\mathbf{w}).\n",
    "\\end{align}\n",
    "Test the algorithm using the 'heart scale' dataset with $n = 270$ and $d = 13$: the matrix $\\mathbf{X}$ is stored in the file 'X$\\_$heart', and the vector $\\mathbf{y}$ is stored in the file 'y$\\_$heart'. ('X$\\_$heart' contains $n$ lines, each line stores a vector $\\mathbf{x}_i$ with $d$ real numbers. 'y$\\_$heart' contains the $\\mathbf{y}$ vector.)"
   ]
  },
  {
   "cell_type": "code",
   "execution_count": 1,
   "metadata": {
    "id": "c1dXtcBGqZmv",
    "pycharm": {
     "name": "#%%\n"
    }
   },
   "outputs": [],
   "source": [
    "## Please implement data loading yourself"
   ]
  },
  {
   "cell_type": "code",
   "execution_count": 1,
   "metadata": {
    "id": "sJStVuRpqkzS",
    "pycharm": {
     "name": "#%%\n"
    }
   },
   "outputs": [
    {
     "ename": "FileNotFoundError",
     "evalue": "[Errno 2] No such file or directory: 'DATA/X_heart'",
     "output_type": "error",
     "traceback": [
      "\u001b[1;31m---------------------------------------------------------------------------\u001b[0m",
      "\u001b[1;31mFileNotFoundError\u001b[0m                         Traceback (most recent call last)",
      "\u001b[1;32md:\\study\\College\\SophomoreFall\\STOR566\\Codes\\STOR566\\main.ipynb Cell 11\u001b[0m in \u001b[0;36m<module>\u001b[1;34m\u001b[0m\n\u001b[0;32m     <a href='vscode-notebook-cell:/d%3A/study/College/SophomoreFall/STOR566/Codes/STOR566/main.ipynb#X13sZmlsZQ%3D%3D?line=15'>16</a>\u001b[0m     y \u001b[39m=\u001b[39m _load(Y_path)\n\u001b[0;32m     <a href='vscode-notebook-cell:/d%3A/study/College/SophomoreFall/STOR566/Codes/STOR566/main.ipynb#X13sZmlsZQ%3D%3D?line=16'>17</a>\u001b[0m     \u001b[39mreturn\u001b[39;00m x, y\n\u001b[1;32m---> <a href='vscode-notebook-cell:/d%3A/study/College/SophomoreFall/STOR566/Codes/STOR566/main.ipynb#X13sZmlsZQ%3D%3D?line=19'>20</a>\u001b[0m X, Y \u001b[39m=\u001b[39m load_data(\u001b[39m\"\u001b[39;49m\u001b[39mDATA/X_heart\u001b[39;49m\u001b[39m\"\u001b[39;49m, \u001b[39m\"\u001b[39;49m\u001b[39mDATA/y_heart\u001b[39;49m\u001b[39m\"\u001b[39;49m)\n\u001b[0;32m     <a href='vscode-notebook-cell:/d%3A/study/College/SophomoreFall/STOR566/Codes/STOR566/main.ipynb#X13sZmlsZQ%3D%3D?line=20'>21</a>\u001b[0m X\u001b[39m.\u001b[39mshape()\n\u001b[0;32m     <a href='vscode-notebook-cell:/d%3A/study/College/SophomoreFall/STOR566/Codes/STOR566/main.ipynb#X13sZmlsZQ%3D%3D?line=21'>22</a>\u001b[0m Y\u001b[39m.\u001b[39mshape()\n",
      "\u001b[1;32md:\\study\\College\\SophomoreFall\\STOR566\\Codes\\STOR566\\main.ipynb Cell 11\u001b[0m in \u001b[0;36mload_data\u001b[1;34m(X_path, Y_path)\u001b[0m\n\u001b[0;32m     <a href='vscode-notebook-cell:/d%3A/study/College/SophomoreFall/STOR566/Codes/STOR566/main.ipynb#X13sZmlsZQ%3D%3D?line=13'>14</a>\u001b[0m \u001b[39mdef\u001b[39;00m \u001b[39mload_data\u001b[39m(X_path, Y_path):\n\u001b[1;32m---> <a href='vscode-notebook-cell:/d%3A/study/College/SophomoreFall/STOR566/Codes/STOR566/main.ipynb#X13sZmlsZQ%3D%3D?line=14'>15</a>\u001b[0m     x \u001b[39m=\u001b[39m _load(X_path)\n\u001b[0;32m     <a href='vscode-notebook-cell:/d%3A/study/College/SophomoreFall/STOR566/Codes/STOR566/main.ipynb#X13sZmlsZQ%3D%3D?line=15'>16</a>\u001b[0m     y \u001b[39m=\u001b[39m _load(Y_path)\n\u001b[0;32m     <a href='vscode-notebook-cell:/d%3A/study/College/SophomoreFall/STOR566/Codes/STOR566/main.ipynb#X13sZmlsZQ%3D%3D?line=16'>17</a>\u001b[0m     \u001b[39mreturn\u001b[39;00m x, y\n",
      "\u001b[1;32md:\\study\\College\\SophomoreFall\\STOR566\\Codes\\STOR566\\main.ipynb Cell 11\u001b[0m in \u001b[0;36m_load\u001b[1;34m(path)\u001b[0m\n\u001b[0;32m      <a href='vscode-notebook-cell:/d%3A/study/College/SophomoreFall/STOR566/Codes/STOR566/main.ipynb#X13sZmlsZQ%3D%3D?line=3'>4</a>\u001b[0m \u001b[39mdef\u001b[39;00m \u001b[39m_load\u001b[39m(path):\n\u001b[1;32m----> <a href='vscode-notebook-cell:/d%3A/study/College/SophomoreFall/STOR566/Codes/STOR566/main.ipynb#X13sZmlsZQ%3D%3D?line=4'>5</a>\u001b[0m     \u001b[39mwith\u001b[39;00m \u001b[39mopen\u001b[39;49m(path, \u001b[39m\"\u001b[39;49m\u001b[39mr\u001b[39;49m\u001b[39m\"\u001b[39;49m) \u001b[39mas\u001b[39;00m f:\n\u001b[0;32m      <a href='vscode-notebook-cell:/d%3A/study/College/SophomoreFall/STOR566/Codes/STOR566/main.ipynb#X13sZmlsZQ%3D%3D?line=5'>6</a>\u001b[0m         lines \u001b[39m=\u001b[39m f\u001b[39m.\u001b[39mreadlines()\n\u001b[0;32m      <a href='vscode-notebook-cell:/d%3A/study/College/SophomoreFall/STOR566/Codes/STOR566/main.ipynb#X13sZmlsZQ%3D%3D?line=6'>7</a>\u001b[0m     ret \u001b[39m=\u001b[39m []\n",
      "\u001b[1;31mFileNotFoundError\u001b[0m: [Errno 2] No such file or directory: 'DATA/X_heart'"
     ]
    }
   ],
   "source": [
    "## Load data:\n",
    "import numpy as np\n",
    "\n",
    "def _load(path):\n",
    "    with open(path, \"r\") as f:\n",
    "        lines = f.readlines()\n",
    "    ret = []\n",
    "    for line in lines:\n",
    "        if line != \"\":\n",
    "            ret.append([float(t.strip()) for t in line.split()])\n",
    "    return np.array(ret)\n",
    "\n",
    "\n",
    "def load_data(X_path, Y_path):\n",
    "    x = _load(X_path)\n",
    "    y = _load(Y_path)\n",
    "    return x, y\n",
    "\n",
    "\n",
    "X, Y = load_data(\"DATA/X_heart\", \"DATA/y_heart\")\n",
    "X.shape()\n",
    "Y.shape()\n"
   ]
  },
  {
   "cell_type": "markdown",
   "metadata": {
    "id": "vZWcD3ufnEcJ",
    "pycharm": {
     "name": "#%% md\n"
    }
   },
   "source": [
    "### (a) (5 points) Compute the gradient of $f(\\mathbf{w})$ w.r.t. $\\mathbf{w}$."
   ]
  },
  {
   "cell_type": "code",
   "execution_count": 16,
   "metadata": {
    "collapsed": false,
    "pycharm": {
     "name": "#%%\n"
    }
   },
   "outputs": [
    {
     "name": "stdout",
     "output_type": "stream",
     "text": [
      "2.4948216087629738\n",
      "[[  74.44205879]\n",
      " [-134.13400885]\n",
      " [-134.47238233]\n",
      " [  95.63451398]\n",
      " [ 111.24655068]\n",
      " [ 136.90128921]\n",
      " [-134.37722598]\n",
      " [  47.54493988]\n",
      " [-134.47454127]\n",
      " [  49.14460639]\n",
      " [   0.90957822]\n",
      " [ 136.96201482]\n",
      " [-134.55754988]]\n"
     ]
    }
   ],
   "source": [
    "def propagate(W, X, Y):\n",
    "    N = len(X)\n",
    "    ret = 0\n",
    "    for i in range(N):\n",
    "        t = 1 + np.exp(-Y[i][0] * (W.T.dot(X[i]).item()))\n",
    "        t = np.log(t)\n",
    "        ret += t\n",
    "    ret /= N\n",
    "    ret += np.linalg.norm(W) * np.linalg.norm(W) / 2\n",
    "    return ret\n",
    "\n",
    "\n",
    "def grad(W, X, Y):\n",
    "    N = len(X)\n",
    "    ret = np.zeros((X.shape[1],))\n",
    "    for i in range(N):\n",
    "        t = Y[i][0] * X[i]\n",
    "        t /= (Y[i][0] * (W.T.dot(X[i])))\n",
    "        t += 1\n",
    "        ret += t\n",
    "    ret /= N\n",
    "    return ret.reshape((X.shape[1], 1))\n",
    "\n",
    "\n",
    "def output_grad():\n",
    "    W = np.random.random((13, 1))\n",
    "    print(propagate(W, X, Y))\n",
    "    print(grad(W, X, Y))\n",
    "\n",
    "\n",
    "output_grad()"
   ]
  },
  {
   "cell_type": "markdown",
   "metadata": {
    "id": "_KmlQojYnL1a",
    "pycharm": {
     "name": "#%% md\n"
    }
   },
   "source": [
    "Answer:"
   ]
  },
  {
   "cell_type": "markdown",
   "metadata": {
    "id": "KYWHWEGinOyC",
    "pycharm": {
     "name": "#%% md\n"
    }
   },
   "source": [
    "### (b) (30 points) Implement the gradient descent algorithm with a fixed step size $\\eta$. Find a small $\\eta_1$ such that the algorithm converges. Increase the step size to $\\eta_2$ so the algorithm cannot converge. Run 50 iterations and plot the iteration versus $\\log(f(\\mathbf{w}^k) -f(\\mathbf{w}^*))$ plot for $\\eta_1$ and $\\eta_2$. In practice it is impossible to get the exact optimal solution $\\mathbf{w}^*$, so use the minimum value you computed as $f(\\mathbf{w}^*)$ when you plot the figure. Report the $f(\\mathbf{w}^*)$ value you used for generating the plots."
   ]
  },
  {
   "cell_type": "code",
   "execution_count": 4,
   "metadata": {
    "id": "L8pJfqcHm89-",
    "pycharm": {
     "name": "#%%\n"
    }
   },
   "outputs": [],
   "source": [
    "## Implementation of GD\n",
    "## You can insert more code chunks and text cells between (b) and (c) if you want to.\n",
    "## Your code:\n",
    "\n",
    "def GD(W, X, Y, step_size, rnd=50):\n",
    "    errs = []\n",
    "    for i in range(rnd):\n",
    "        W -= step_size * grad(W, X, Y)\n",
    "        errs.append(propagate(W, X, Y))\n",
    "    return np.array(errs)"
   ]
  },
  {
   "cell_type": "code",
   "execution_count": 5,
   "metadata": {
    "collapsed": false,
    "pycharm": {
     "name": "#%%\n"
    }
   },
   "outputs": [],
   "source": [
    "# W = np.random.random((13, 1))\n",
    "W = np.array([[0.03439414],\n",
    "       [0.81652136],\n",
    "       [0.72424916],\n",
    "       [0.67671307],\n",
    "       [0.24824191],\n",
    "       [0.03997214],\n",
    "       [0.07705192],\n",
    "       [0.51915   ],\n",
    "       [0.62479985],\n",
    "       [0.92979203],\n",
    "       [0.91737564],\n",
    "       [0.69525569],\n",
    "       [0.46987825]])\n",
    "step_0_001 = GD(W.copy(), X, Y, 0.001)\n",
    "step_0_01 = GD(W.copy(), X, Y, 0.01)\n",
    "\n",
    "\n",
    "min_v = np.min([step_0_01, step_0_001])\n",
    "step_0_001 -= min_v\n",
    "step_0_01 -= min_v"
   ]
  },
  {
   "cell_type": "code",
   "execution_count": 6,
   "metadata": {
    "collapsed": false,
    "pycharm": {
     "name": "#%%\n"
    }
   },
   "outputs": [],
   "source": [
    "import matplotlib.pyplot as plt\n",
    "\n",
    "\n",
    "def draw(Y):\n",
    "    plt.close(\"all\")\n",
    "\n",
    "    plt.figure(figsize=(8, 6))\n",
    "\n",
    "    X = list(range(len(Y)))\n",
    "    plt.plot(X, Y)\n",
    "\n",
    "    plt.grid()\n",
    "    plt.show()"
   ]
  },
  {
   "cell_type": "markdown",
   "metadata": {
    "id": "IlxfxSzOnyjW",
    "pycharm": {
     "name": "#%% md\n"
    }
   },
   "source": [
    "Plot of a small step size $\\eta_1$:"
   ]
  },
  {
   "cell_type": "code",
   "execution_count": 7,
   "metadata": {
    "collapsed": false,
    "pycharm": {
     "name": "#%%\n"
    }
   },
   "outputs": [
    {
     "data": {
      "image/png": "[encoded data removed]",
      "text/plain": [
       "<Figure size 576x432 with 1 Axes>"
      ]
     },
     "metadata": {
      "needs_background": "light"
     },
     "output_type": "display_data"
    }
   ],
   "source": [
    "draw(step_0_001)"
   ]
  },
  {
   "cell_type": "markdown",
   "metadata": {
    "id": "NUYIuw_an2tV",
    "pycharm": {
     "name": "#%% md\n"
    }
   },
   "source": [
    "Plot of a small step size $\\eta_2$:"
   ]
  },
  {
   "cell_type": "code",
   "execution_count": 8,
   "metadata": {
    "collapsed": false,
    "pycharm": {
     "name": "#%%\n"
    }
   },
   "outputs": [
    {
     "data": {
      "image/png": "[encoded data removed]",
      "text/plain": [
       "<Figure size 576x432 with 1 Axes>"
      ]
     },
     "metadata": {
      "needs_background": "light"
     },
     "output_type": "display_data"
    }
   ],
   "source": [
    "draw(step_0_01)"
   ]
  },
  {
   "cell_type": "markdown",
   "metadata": {
    "id": "iG6GtonCnuvU",
    "pycharm": {
     "name": "#%% md\n"
    }
   },
   "source": [
    "The $f(\\mathbf{x}^*)$ value used is:"
   ]
  },
  {
   "cell_type": "code",
   "execution_count": 9,
   "metadata": {
    "collapsed": false,
    "pycharm": {
     "name": "#%%\n"
    }
   },
   "outputs": [
    {
     "data": {
      "text/plain": [
       "1.457828022225954"
      ]
     },
     "execution_count": 9,
     "metadata": {},
     "output_type": "execute_result"
    }
   ],
   "source": [
    "min_v"
   ]
  },
  {
   "cell_type": "markdown",
   "metadata": {
    "id": "2CSl47RKppHM",
    "pycharm": {
     "name": "#%% md\n"
    }
   },
   "source": [
    "### (c) (5 points) Write down the pseudo code of gradient descent with backtracking line search ($\\sigma=0.01$)."
   ]
  },
  {
   "cell_type": "markdown",
   "metadata": {
    "id": "yfYLYqLgp4i5",
    "pycharm": {
     "name": "#%% md\n"
    }
   },
   "source": [
    "Pseudo code:"
   ]
  },
  {
   "cell_type": "markdown",
   "metadata": {
    "id": "peboWtMBp62-",
    "pycharm": {
     "name": "#%% md\n"
    }
   },
   "source": [
    "### (d) (20 points) Implement the gradient descent algorithm with backtracking line search ($\\sigma=0.01$). Plot the same iteration versus $\\log(f(\\mathbf{w}^k) -f(\\mathbf{w}^*))$ plot."
   ]
  },
  {
   "cell_type": "code",
   "execution_count": 10,
   "metadata": {
    "id": "ff-v_MOZqDGX",
    "pycharm": {
     "name": "#%%\n"
    }
   },
   "outputs": [],
   "source": [
    "## Implementation of GD with line search\n",
    "## You can insert more code chunks and text cells between (d) and (e) if you want to.\n",
    "## Your code:\n",
    "\n",
    "def BLS_GD(W, X, Y, step_size, rnd=50, a=0.01):\n",
    "\n",
    "    def check(step_size_, d_):\n",
    "        new_e = propagate(W + step_size_ * d_, X, Y)\n",
    "        e = propagate(W, X, Y) + a * step_size_ * ((-d_).T.dot(d))\n",
    "        return new_e <= e\n",
    "\n",
    "    errs = []\n",
    "    for i in range(rnd):\n",
    "        d = -grad(W, X, Y)\n",
    "        step_size_ = step_size\n",
    "        while True:\n",
    "            if check(step_size_, d):\n",
    "                break\n",
    "            step_size_ /= 2\n",
    "        W += step_size_ * d\n",
    "        errs.append(propagate(W, X, Y))\n",
    "    return np.array(errs)"
   ]
  },
  {
   "cell_type": "code",
   "execution_count": 10,
   "metadata": {
    "collapsed": false,
    "pycharm": {
     "name": "#%%\n"
    }
   },
   "outputs": [],
   "source": []
  },
  {
   "cell_type": "markdown",
   "metadata": {
    "collapsed": false,
    "pycharm": {
     "name": "#%% md\n"
    }
   },
   "source": [
    "The Plot:"
   ]
  },
  {
   "cell_type": "code",
   "execution_count": 11,
   "metadata": {
    "collapsed": false,
    "pycharm": {
     "name": "#%%\n"
    }
   },
   "outputs": [
    {
     "data": {
      "image/png": "[encoded data removed]",
      "text/plain": [
       "<Figure size 576x432 with 1 Axes>"
      ]
     },
     "metadata": {
      "needs_background": "light"
     },
     "output_type": "display_data"
    }
   ],
   "source": [
    "BLS_step_0_01 = BLS_GD(W.copy(), X, Y, 0.01)\n",
    "BLS_min_v = np.min(BLS_step_0_01)\n",
    "BLS_step_0_01 -= BLS_min_v\n",
    "draw(BLS_step_0_01)"
   ]
  },
  {
   "cell_type": "markdown",
   "metadata": {
    "id": "VbHsQrUyqNCR",
    "pycharm": {
     "name": "#%% md\n"
    }
   },
   "source": [
    "### (e) (20 points) Test your implementation (gradient descent with backtracking line search) on a larger dataset 'epsilonsubset'. Plot the same iteration vs error plot."
   ]
  },
  {
   "cell_type": "code",
   "execution_count": 12,
   "metadata": {
    "id": "Uy7Tb8W8qUMr",
    "pycharm": {
     "name": "#%%\n"
    }
   },
   "outputs": [],
   "source": [
    "## Implementation of GD with line search\n",
    "## You can insert more code chunks and text cells between (d) and (e) if you want to.\n",
    "## Your code:\n",
    "\n",
    "Large_X, Large_Y = load_data(\"DATA/x_epsilonsubset\", \"DATA/y_epsilonsubset\")\n",
    "Large_W = np.random.random((2000, 1))\n",
    "\n",
    "Large_step_0_01 = BLS_GD(Large_W, Large_X, Large_Y, 0.001)\n",
    "Large_min_v = np.min(Large_step_0_01)\n",
    "Large_step_0_01 -= Large_min_v\n",
    "draw(Large_step_0_01)"
   ]
  },
  {
   "cell_type": "code",
   "execution_count": 19,
   "metadata": {
    "collapsed": false,
    "pycharm": {
     "name": "#%%\n"
    }
   },
   "outputs": [
    {
     "data": {
      "image/png": "[encoded data removed]",
      "text/plain": [
       "<Figure size 576x432 with 1 Axes>"
      ]
     },
     "metadata": {
      "needs_background": "light"
     },
     "output_type": "display_data"
    }
   ],
   "source": []
  },
  {
   "cell_type": "markdown",
   "metadata": {
    "id": "9X_eNkjVqUtJ",
    "pycharm": {
     "name": "#%% md\n"
    }
   },
   "source": [
    "The Plot:"
   ]
  }
 ],
 "metadata": {
  "colab": {
   "collapsed_sections": [],
   "provenance": []
  },
  "kernelspec": {
   "display_name": "Python 3.10.1 64-bit",
   "language": "python",
   "name": "python3"
  },
  "language_info": {
   "codemirror_mode": {
    "name": "ipython",
    "version": 3
   },
   "file_extension": ".py",
   "mimetype": "text/x-python",
   "name": "python",
   "nbconvert_exporter": "python",
   "pygments_lexer": "ipython3",
   "version": "3.10.1"
  },
  "vscode": {
   "interpreter": {
    "hash": "703e404639c881014e7947da9a954859173c5840ff73a06aa7ef19bfe014a324"
   }
  }
 },
 "nbformat": 4,
 "nbformat_minor": 0
}
